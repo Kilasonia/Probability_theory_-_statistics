{
 "cells": [
  {
   "cell_type": "markdown",
   "metadata": {},
   "source": [
    "1 ) Даны две независимые выборки. Не соблюдается условие нормальности\n",
    "x1 380,420, 290\n",
    "y1 140,360,200,900\n",
    "Сделайте вывод по результатам, полученным с помощью функции"
   ]
  },
  {
   "cell_type": "code",
   "execution_count": 2,
   "metadata": {},
   "outputs": [
    {
     "name": "stdout",
     "output_type": "stream",
     "text": [
      "MannwhitneyuResult(statistic=8.0, pvalue=0.6285714285714286) статистически значимых различий нет\n"
     ]
    }
   ],
   "source": [
    "import numpy as np\n",
    "import scipy.stats as stats\n",
    "x = np.array([380, 420, 290])\n",
    "y = np.array([140, 360, 200, 900])\n",
    "\n",
    "print(f'{stats.mannwhitneyu(x,y)} статистически значимых различий нет')\n"
   ]
  },
  {
   "cell_type": "markdown",
   "metadata": {},
   "source": [
    "2 ) Исследовалось влияние препарата на уровень давления пациентов. Сначала измерялось давление до приема препарата, потом через 10 минут и через 30 минут. Есть ли статистически значимые различия?\n",
    "1е измерение до приема препарата: 150, 160, 165, 145, 155\n",
    "2е измерение через 10 минут: 140, 155, 150, 130, 135\n",
    "3е измерение через 30 минут: 130, 130, 120, 130, 125"
   ]
  },
  {
   "cell_type": "code",
   "execution_count": 4,
   "metadata": {},
   "outputs": [
    {
     "name": "stdout",
     "output_type": "stream",
     "text": [
      "FriedmanchisquareResult(statistic=9.578947368421062, pvalue=0.00831683351100441) есть статистически значимые различия\n"
     ]
    }
   ],
   "source": [
    "first_measurement = np.array([150, 160, 165, 145, 155])\n",
    "second_measurement = np.array([140, 155, 150, 130, 135])\n",
    "third_measurement = np.array([130, 130, 120, 130, 125])\n",
    "\n",
    "print(f'{stats.friedmanchisquare(first_measurement, second_measurement, third_measurement)} есть статистически значимые различия')"
   ]
  },
  {
   "cell_type": "markdown",
   "metadata": {},
   "source": [
    "3 ) Сравните 1 и 2 е измерения, предполагая, что 3го измерения через 30 минут не было."
   ]
  },
  {
   "cell_type": "code",
   "execution_count": 6,
   "metadata": {},
   "outputs": [
    {
     "name": "stdout",
     "output_type": "stream",
     "text": [
      "WilcoxonResult(statistic=0.0, pvalue=0.0625) MannwhitneyuResult(statistic=21.0, pvalue=0.09269171612444642) нет статистически значимых различий\n"
     ]
    }
   ],
   "source": [
    "first_measurement = np.array([150, 160, 165, 145, 155])\n",
    "second_measurement = np.array([140, 155, 150, 130, 135])\n",
    "print(f'{stats.wilcoxon(first_measurement, second_measurement)} {stats.mannwhitneyu(first_measurement, second_measurement)} нет статистически значимых различий')"
   ]
  },
  {
   "cell_type": "markdown",
   "metadata": {},
   "source": [
    "4) Даны 3 группы учеников плавания.\n",
    "В 1 группе время на дистанцию 50 м составляют:\n",
    "56, 60, 62, 55, 71, 67, 59, 58, 64, 67\n",
    "Вторая группа : 57, 58, 69, 48, 72, 70, 68, 71, 50, 53\n",
    "Третья группа: 57, 67, 49, 48, 47, 55, 66, 51, 54"
   ]
  },
  {
   "cell_type": "code",
   "execution_count": 7,
   "metadata": {},
   "outputs": [
    {
     "name": "stdout",
     "output_type": "stream",
     "text": [
      "KruskalResult(statistic=5.465564058257224, pvalue=0.06503809985904942) нет статистически значимых различий\n"
     ]
    }
   ],
   "source": [
    "first_group_time = np.array([56, 60, 62, 55, 71, 67, 59, 58, 64, 67])\n",
    "second_group_time = np.array([57, 58, 69, 48, 72, 70, 68, 71, 50, 53])\n",
    "third_group_time = np.array([57, 67, 49, 48, 47, 55, 66, 51, 54])\n",
    "\n",
    "\n",
    "print(f'{stats.kruskal(first_group_time, second_group_time, third_group_time)} нет статистически значимых различий')\n",
    "\n",
    "\n"
   ]
  },
  {
   "cell_type": "markdown",
   "metadata": {},
   "source": [
    "5) Заявляется, что партия изготавливается со средним арифметическим 2,5 см. Проверить данную гипотезу, если известно, что размеры изделий подчинены нормальному закону распределения. Объем выборки 10, уровень статистической значимости 5%\n",
    "2.51, 2.35, 2.74, 2.56, 2.40, 2.36, 2.65, 2.7, 2.67, 2.34"
   ]
  },
  {
   "cell_type": "code",
   "execution_count": 14,
   "metadata": {},
   "outputs": [
    {
     "name": "stdout",
     "output_type": "stream",
     "text": [
      "mean= 2.5279999999999996\n",
      "sigma= 0.1572542173961923\n",
      "t рассчетное= 0.5630613661802959 , t табличное= 1.833 0.563 < 1.833 - статистически значимых различий нет\n"
     ]
    }
   ],
   "source": [
    "size_group = np.array([2.51, 2.35, 2.74, 2.56, 2.40, 2.36, 2.65, 2.7, 2.67, 2.34])\n",
    "mu = 2.5\n",
    "mean = np.mean(size_group)\n",
    "print('mean=', mean)\n",
    "n = 10\n",
    "alpha = 0.05\n",
    "sigma = np.std(size_group, ddof = 1)\n",
    "print('sigma=', sigma)\n",
    "size_group = np.array([2.51, 2.35, 2.74, 2.56, 2.40, 2.36, 2.65, 2.7, 2.67, 2.34])\n",
    "\n",
    "t = (mean - mu) / (sigma / np.sqrt(n))\n",
    "print('t рассчетное=', t, ', t табличное= 1.833', '0.563 < 1.833 - статистически значимых различий нет')\n",
    "\n",
    "\n"
   ]
  }
 ],
 "metadata": {
  "kernelspec": {
   "display_name": "Python 3.10.8 64-bit (microsoft store)",
   "language": "python",
   "name": "python3"
  },
  "language_info": {
   "codemirror_mode": {
    "name": "ipython",
    "version": 3
   },
   "file_extension": ".py",
   "mimetype": "text/x-python",
   "name": "python",
   "nbconvert_exporter": "python",
   "pygments_lexer": "ipython3",
   "version": "3.10.8"
  },
  "orig_nbformat": 4,
  "vscode": {
   "interpreter": {
    "hash": "22e92cd554a40abb03f90726a08cafda4fa8f216c30f49cef0765c3c74cd3b4d"
   }
  }
 },
 "nbformat": 4,
 "nbformat_minor": 2
}
