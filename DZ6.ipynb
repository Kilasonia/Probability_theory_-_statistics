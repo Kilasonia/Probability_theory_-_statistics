{
 "cells": [
  {
   "cell_type": "markdown",
   "metadata": {},
   "source": [
    "1.Известно, что генеральная совокупность распределена нормально\n",
    "со средним квадратическим отклонением, равным 16.\n",
    "Найти доверительный интервал для оценки математического ожидания a с надежностью 0.95,\n",
    "если выборочная средняя M = 80, а объем выборки n = 256."
   ]
  },
  {
   "cell_type": "code",
   "execution_count": 1,
   "metadata": {},
   "outputs": [
    {
     "name": "stdout",
     "output_type": "stream",
     "text": [
      "доверительный интервал для оценки математического ожидания генеральной совокупности: [78.04;81.96].\n"
     ]
    }
   ],
   "source": [
    "x = 80 - 1.96 * 16 / 256 ** (1/2)\n",
    "y = 80 + 1.96 * 16 / 256 ** (1/2)\n",
    "print(f'доверительный интервал для оценки математического ожидания генеральной совокупности: [{x};{y}].')"
   ]
  },
  {
   "cell_type": "markdown",
   "metadata": {},
   "source": [
    "2.В результате 10 независимых измерений некоторой величины X, выполненных с одинаковой точностью,\n",
    "получены опытные данные:\n",
    "6.9, 6.1, 6.2, 6.8, 7.5, 6.3, 6.4, 6.9, 6.7, 6.1\n",
    "Предполагая, что результаты измерений подчинены нормальному закону распределения вероятностей,\n",
    "оценить истинное значение величины X при помощи доверительного интервала, покрывающего это\n",
    "значение с доверительной вероятностью 0,95."
   ]
  },
  {
   "cell_type": "code",
   "execution_count": 2,
   "metadata": {},
   "outputs": [
    {
     "name": "stdout",
     "output_type": "stream",
     "text": [
      "mean= 6.590000000000001\n",
      "Lenght_of_lst= 10\n",
      "msd= 0.4508017549014448\n",
      "alpha= 0.05\n",
      "t_critery= 2.2621571627409915\n",
      "доверительный интервал для истинного значения Х: (6.267515851415713, 6.912484148584288\n"
     ]
    }
   ],
   "source": [
    "import numpy as np\n",
    "import scipy.stats as stats\n",
    "lst = np.array([6.9, 6.1, 6.2, 6.8, 7.5, 6.3, 6.4, 6.9, 6.7, 6.1])\n",
    "mean = np.mean(lst)\n",
    "print(f'mean= {mean}' )\n",
    "Lenght_of_lst = len(lst)\n",
    "print(f'Lenght_of_lst= {Lenght_of_lst}' )\n",
    "msd = np.std(lst, ddof=1)\n",
    "print(f'msd= {msd}' )\n",
    "alpha = 0.05\n",
    "print(f'alpha= {alpha}' )\n",
    "t_critery = stats.t.ppf(1-alpha/2, Lenght_of_lst-1)\n",
    "print(f't_critery= {t_critery}' )\n",
    "\n",
    "confidence_interval_x = mean - t_critery * msd / Lenght_of_lst ** 0.5 \n",
    "confidence_interval_y = mean + t_critery * msd / Lenght_of_lst ** 0.5\n",
    "\n",
    " \n",
    "print(f'доверительный интервал для истинного значения Х: ({confidence_interval_x}, {confidence_interval_y}' )"
   ]
  },
  {
   "cell_type": "markdown",
   "metadata": {},
   "source": [
    "3.Рост дочерей 175, 167, 154, 174, 178, 148, 160, 167, 169, 170\n",
    "Рост матерей 178, 165, 165, 173, 168, 155, 160, 164, 178, 175\n",
    "Используя эти данные построить 95% доверительный интервал для разности среднего роста родителей и детей."
   ]
  },
  {
   "cell_type": "code",
   "execution_count": 6,
   "metadata": {},
   "outputs": [
    {
     "name": "stdout",
     "output_type": "stream",
     "text": [
      "Доверительный интервал: [-6.268; 10.068]\n"
     ]
    }
   ],
   "source": [
    "from math import sqrt\n",
    "def upper_border_t(x_mean, t, S_delta):\n",
    "  return x_mean + t*S_delta\n",
    "def lower_border_t(x_mean, t, S_delta):\n",
    "  return x_mean - t*S_delta\n",
    "\n",
    "daughters = np.array([175, 167, 154, 174, 178, 148, 160, 167, 169, 170]) \n",
    "mothers = np.array([178, 165, 165, 173, 168, 155, 160, 164, 178, 175]) \n",
    "alpha = 0.05\n",
    "beta = 1 - alpha/2 \n",
    "\n",
    "lenght_daughters = len(daughters)\n",
    "lenght_mothers = len(mothers)\n",
    "\n",
    "daughters_mean = np.mean(daughters)\n",
    "mothers_mean = np.mean(mothers)\n",
    "\n",
    "delta = abs(daughters_mean-mothers_mean)\n",
    "\n",
    "unbiased_variance_of_daughters = np.var(daughters, ddof=1) \n",
    "unbiased_variance_of_mothers = np.var(mothers, ddof=1) \n",
    "unbiased_variance_of_all = (unbiased_variance_of_daughters+unbiased_variance_of_mothers)/2 \n",
    "\n",
    "Standart_delta = sqrt (unbiased_variance_of_all/lenght_daughters + unbiased_variance_of_all/lenght_mothers) \n",
    "\n",
    "t = stats.t.ppf (beta, lenght_daughters-1+lenght_mothers-1)\n",
    "\n",
    "upper_border = upper_border_t(delta, t, Standart_delta)\n",
    "lower_border = lower_border_t(delta, t, Standart_delta)\n",
    "\n",
    "\n",
    "print (f'Доверительный интервал: [{round(lower_border, 3)}; {round(upper_border, 3)}]')"
   ]
  }
 ],
 "metadata": {
  "kernelspec": {
   "display_name": "Python 3.10.8 64-bit (microsoft store)",
   "language": "python",
   "name": "python3"
  },
  "language_info": {
   "codemirror_mode": {
    "name": "ipython",
    "version": 3
   },
   "file_extension": ".py",
   "mimetype": "text/x-python",
   "name": "python",
   "nbconvert_exporter": "python",
   "pygments_lexer": "ipython3",
   "version": "3.10.8"
  },
  "orig_nbformat": 4,
  "vscode": {
   "interpreter": {
    "hash": "22e92cd554a40abb03f90726a08cafda4fa8f216c30f49cef0765c3c74cd3b4d"
   }
  }
 },
 "nbformat": 4,
 "nbformat_minor": 2
}
