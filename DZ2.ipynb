{
 "cells": [
  {
   "cell_type": "markdown",
   "metadata": {},
   "source": [
    "1.Даны значения зарплат из выборки выпускников: 100, 80, 75, 77, 89, 33, 45, 25, 65, 17, 30, 24, 57, 55, 70, 75, 65, 84, 90, 150.\n",
    "Посчитать (желательно без использования статистических методов наподобие std, var, mean) среднее арифметическое,среднее квадратичное отклонение, смещенную и несмещенную оценки дисперсий для данной выборки."
   ]
  },
  {
   "cell_type": "markdown",
   "metadata": {},
   "source": [
    "среднее арифметическое"
   ]
  },
  {
   "cell_type": "code",
   "execution_count": 10,
   "metadata": {},
   "outputs": [
    {
     "name": "stdout",
     "output_type": "stream",
     "text": [
      "65.3\n"
     ]
    }
   ],
   "source": [
    "import numpy as np\n",
    "import pandas as pd\n",
    "\n",
    "salary = np.array([100, 80, 75, 77, 89, 33, 45, 25, 65, 17, 30, 24, 57, 55, 70, 75, 65, 84, 90, 150])\n",
    "\n",
    "sal=salary.sum()/salary.size\n",
    "print(sal)"
   ]
  },
  {
   "cell_type": "markdown",
   "metadata": {},
   "source": [
    "среднее квадратичное отклонение"
   ]
  },
  {
   "cell_type": "code",
   "execution_count": 12,
   "metadata": {},
   "outputs": [
    {
     "name": "stdout",
     "output_type": "stream",
     "text": [
      "137.84846752865988\n"
     ]
    }
   ],
   "source": [
    "mqr=(salary-sal)**2\n",
    "sqo=(mqr.sum()/sal.size)**.5\n",
    "print(sqo)"
   ]
  },
  {
   "cell_type": "markdown",
   "metadata": {},
   "source": [
    "смещенная оценка дисперсий"
   ]
  },
  {
   "cell_type": "code",
   "execution_count": 15,
   "metadata": {},
   "outputs": [
    {
     "name": "stdout",
     "output_type": "stream",
     "text": [
      "950.11\n"
     ]
    }
   ],
   "source": [
    "sod=mqr.sum()/salary.size\n",
    "print(sod)"
   ]
  },
  {
   "cell_type": "markdown",
   "metadata": {},
   "source": [
    "не смещенная оценка дисперсий"
   ]
  },
  {
   "cell_type": "code",
   "execution_count": 16,
   "metadata": {},
   "outputs": [
    {
     "name": "stdout",
     "output_type": "stream",
     "text": [
      "1000.1157894736842\n"
     ]
    }
   ],
   "source": [
    "nsod=mqr.sum()/(salary.size-1)\n",
    "print(nsod)"
   ]
  },
  {
   "cell_type": "markdown",
   "metadata": {},
   "source": [
    "2.В первом ящике находится 8 мячей, из которых 5 - белые. Во втором ящике - 12 мячей, из которых 5 белых. Из первого ящика вытаскивают случайным образом два мяча, из второго - 4. Какова вероятность того, что 3 мяча белые?"
   ]
  },
  {
   "cell_type": "code",
   "execution_count": 18,
   "metadata": {},
   "outputs": [],
   "source": [
    "def combinations(n, k):\n",
    "    return (np.math.factorial(n)/(np.math.factorial(k)*np.math.factorial(n-k)))\n",
    "comb1=combinations(8, 2)\n",
    "comb2=combinations(12, 4)"
   ]
  },
  {
   "cell_type": "markdown",
   "metadata": {},
   "source": [
    "вариант №1 - 2 из 2 белые и 1 из 4 белый"
   ]
  },
  {
   "cell_type": "code",
   "execution_count": 19,
   "metadata": {},
   "outputs": [
    {
     "name": "stdout",
     "output_type": "stream",
     "text": [
      "0.12626262626262627\n"
     ]
    }
   ],
   "source": [
    "a1=combinations(5, 2)\n",
    "a2=combinations(5, 1)\n",
    "b2=combinations(7, 3)\n",
    "p1=a1/comb1\n",
    "p2=(a2*b2)/comb2\n",
    "pa=p1*p2\n",
    "print(pa)"
   ]
  },
  {
   "cell_type": "markdown",
   "metadata": {},
   "source": [
    "вариант №2 - 1 из 2 белый и 2 из 4 белые"
   ]
  },
  {
   "cell_type": "code",
   "execution_count": 22,
   "metadata": {},
   "outputs": [
    {
     "name": "stdout",
     "output_type": "stream",
     "text": [
      "0.22727272727272727\n"
     ]
    }
   ],
   "source": [
    "a1=combinations(5, 1)\n",
    "b1=combinations(3, 1)\n",
    "a2=combinations(5, 2)\n",
    "b2=combinations(7, 2)\n",
    "p1=(a1*b1)/comb1\n",
    "p2=(a2*b2)/comb2\n",
    "pb=p1*p2\n",
    "print(pb)"
   ]
  },
  {
   "cell_type": "markdown",
   "metadata": {},
   "source": [
    "вариант №3 - 0 из 2 белые и 3 из 4 белые"
   ]
  },
  {
   "cell_type": "code",
   "execution_count": 23,
   "metadata": {},
   "outputs": [
    {
     "name": "stdout",
     "output_type": "stream",
     "text": [
      "0.01515151515151515\n"
     ]
    }
   ],
   "source": [
    "a1=combinations(3, 2)\n",
    "a2=combinations(5, 3)\n",
    "b2=combinations(7, 1)\n",
    "p1=a1/comb1\n",
    "p2=(a2*b2)/comb2\n",
    "pc=p1*p2\n",
    "print(pc)"
   ]
  },
  {
   "cell_type": "markdown",
   "metadata": {},
   "source": [
    "вероятность того, что 3 мяча белые"
   ]
  },
  {
   "cell_type": "code",
   "execution_count": 24,
   "metadata": {},
   "outputs": [
    {
     "name": "stdout",
     "output_type": "stream",
     "text": [
      "0.3686868686868687\n"
     ]
    }
   ],
   "source": [
    "p=pa+pb+pc\n",
    "print(p)"
   ]
  },
  {
   "cell_type": "markdown",
   "metadata": {},
   "source": [
    "3.На соревновании по биатлону один из трех спортсменов стреляет и попадает в мишень. Вероятность попадания для первого спортсмена равна 0.9, для второго — 0.8, для третьего — 0.6. Найти вероятность того, что выстрел произведен: a). первым спортсменом б). вторым спортсменом в). третьим спортсменом."
   ]
  },
  {
   "cell_type": "code",
   "execution_count": 25,
   "metadata": {},
   "outputs": [],
   "source": [
    "p1=0.9\n",
    "p2=0.8\n",
    "p3=0.6\n",
    "q1=1-p1\n",
    "q2=1-p2\n",
    "q3=1-p3"
   ]
  },
  {
   "cell_type": "markdown",
   "metadata": {},
   "source": [
    "выстрелил первый"
   ]
  },
  {
   "cell_type": "code",
   "execution_count": 26,
   "metadata": {},
   "outputs": [
    {
     "name": "stdout",
     "output_type": "stream",
     "text": [
      "0.3686868686868687\n"
     ]
    }
   ],
   "source": [
    "pa=p1*q2*q3\n",
    "print(p)"
   ]
  },
  {
   "cell_type": "markdown",
   "metadata": {},
   "source": [
    "выстрелил второй"
   ]
  },
  {
   "cell_type": "code",
   "execution_count": 28,
   "metadata": {},
   "outputs": [
    {
     "name": "stdout",
     "output_type": "stream",
     "text": [
      "0.031999999999999994\n"
     ]
    }
   ],
   "source": [
    "pb=q1*p2*q3\n",
    "print(pb)"
   ]
  },
  {
   "cell_type": "markdown",
   "metadata": {},
   "source": [
    "выстрелил третил"
   ]
  },
  {
   "cell_type": "code",
   "execution_count": 29,
   "metadata": {},
   "outputs": [
    {
     "name": "stdout",
     "output_type": "stream",
     "text": [
      "0.011999999999999993\n"
     ]
    }
   ],
   "source": [
    "pc=q1*q2*p3\n",
    "print(pc)"
   ]
  },
  {
   "cell_type": "markdown",
   "metadata": {},
   "source": [
    "5.Устройство состоит из трех деталей. Для первой детали вероятность выйти из строя в первый месяц равна 0.1, для второй - 0.2, для третьей - 0.25. Какова вероятность того, что в первый месяц выйдут из строя: а). все детали б). только две детали в). хотя бы одна деталь г). от одной до двух деталей?"
   ]
  },
  {
   "cell_type": "code",
   "execution_count": 30,
   "metadata": {},
   "outputs": [],
   "source": [
    "v = 1/3 * 0.1 + 1/3 * 0.2 + 1/3 * 0.25\n",
    "v1 = (1/3 * 0.1) / v \n",
    "v2 = (1/3 * 0.2) / v \n",
    "v3 = (1/3 * 0.25) / v "
   ]
  },
  {
   "cell_type": "markdown",
   "metadata": {},
   "source": [
    "все детали отказали"
   ]
  },
  {
   "cell_type": "code",
   "execution_count": 32,
   "metadata": {},
   "outputs": [
    {
     "name": "stdout",
     "output_type": "stream",
     "text": [
      "0.0300525920360631\n"
     ]
    }
   ],
   "source": [
    "all_details = v1*v2*v3\n",
    "print(all_details)"
   ]
  },
  {
   "cell_type": "markdown",
   "metadata": {},
   "source": [
    "две детали отказали"
   ]
  },
  {
   "cell_type": "code",
   "execution_count": 33,
   "metadata": {},
   "outputs": [
    {
     "name": "stdout",
     "output_type": "stream",
     "text": [
      "0.22389181066867014\n"
     ]
    }
   ],
   "source": [
    "two_details = v1*v2*(1-v3)+v1*(1-v2)*v3+(1-v1)*v2*v3\n",
    "print(two_details)"
   ]
  },
  {
   "cell_type": "markdown",
   "metadata": {},
   "source": [
    "одна деталь отказала"
   ]
  },
  {
   "cell_type": "code",
   "execution_count": 34,
   "metadata": {},
   "outputs": [
    {
     "name": "stdout",
     "output_type": "stream",
     "text": [
      "0.4620586025544704\n"
     ]
    }
   ],
   "source": [
    "one_detail = (1-v1)*(1-v2)*v3+(1-v1)*v2*(1-v3)+v1*(1-v2)*(1-v3)\n",
    "print(one_detail)"
   ]
  },
  {
   "cell_type": "markdown",
   "metadata": {},
   "source": [
    "от одной до двух деталей отказали"
   ]
  },
  {
   "cell_type": "code",
   "execution_count": 35,
   "metadata": {},
   "outputs": [
    {
     "name": "stdout",
     "output_type": "stream",
     "text": [
      "0.6859504132231405\n"
     ]
    }
   ],
   "source": [
    "one_to_two = one_detail+two_details\n",
    "print(one_to_two)"
   ]
  },
  {
   "cell_type": "markdown",
   "metadata": {},
   "source": [
    "4.В университет на факультеты A и B поступило равное количество студентов, а на факультет C студентов поступило столько же, сколько на A и B вместе. Вероятность того, что студент факультета A сдаст первую сессию, равна 0.8. Для студента факультета B эта вероятность равна 0.7, а для студента факультета C - 0.9. Студент сдал первую сессию. Какова вероятность, что он учится: a). на факультете A б). на факультете B в). на факультете C?"
   ]
  },
  {
   "cell_type": "code",
   "execution_count": 36,
   "metadata": {},
   "outputs": [
    {
     "name": "stdout",
     "output_type": "stream",
     "text": [
      "0.24242424242424246\n",
      "0.21212121212121213\n",
      "0.5454545454545455\n"
     ]
    }
   ],
   "source": [
    "pt = 1/4 * 0.8 + 1/4 * 0.7 + 1/2 * 0.9\n",
    "\n",
    "p1 = (1/4 * 0.8) / pt \n",
    "p2 = (1/4 * 0.7) / pt  \n",
    "p3 = (1/2 * 0.9) / pt \n",
    "\n",
    "print(p1) # на факультете A\n",
    "print(p2) # на факультете B\n",
    "print(p3) # на факультете c"
   ]
  }
 ],
 "metadata": {
  "kernelspec": {
   "display_name": "Python 3.10.8 64-bit (microsoft store)",
   "language": "python",
   "name": "python3"
  },
  "language_info": {
   "codemirror_mode": {
    "name": "ipython",
    "version": 3
   },
   "file_extension": ".py",
   "mimetype": "text/x-python",
   "name": "python",
   "nbconvert_exporter": "python",
   "pygments_lexer": "ipython3",
   "version": "3.10.8"
  },
  "orig_nbformat": 4,
  "vscode": {
   "interpreter": {
    "hash": "22e92cd554a40abb03f90726a08cafda4fa8f216c30f49cef0765c3c74cd3b4d"
   }
  }
 },
 "nbformat": 4,
 "nbformat_minor": 2
}
