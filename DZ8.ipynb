{
 "cells": [
  {
   "cell_type": "markdown",
   "metadata": {},
   "source": [
    "1.Даны значения величины заработной платы заемщиков банка (zp) и значения их поведенческого кредитного скоринга (ks):\n",
    "zp = [35, 45, 190, 200, 40, 70, 54, 150, 120, 110],\n",
    "ks = [401, 574, 874, 919, 459, 739, 653, 902, 746, 832].\n",
    "Найдите ковариацию этих двух величин с помощью элементарных действий, а затем с помощью функции cov из numpy\n",
    "Полученные значения должны быть равны.\n",
    "Найдите коэффициент корреляции Пирсона с помощью ковариации и среднеквадратичных отклонений двух признаков,\n",
    "а затем с использованием функций из библиотек numpy и pandas."
   ]
  },
  {
   "cell_type": "code",
   "execution_count": 1,
   "metadata": {},
   "outputs": [],
   "source": [
    "import numpy as np\n",
    "zp = np.array([35, 45, 190, 200, 40, 70, 54, 150, 120, 110])\n",
    "ks = np.array([401, 574, 874, 919, 459, 739, 653, 902, 746, 832])"
   ]
  },
  {
   "cell_type": "code",
   "execution_count": 16,
   "metadata": {},
   "outputs": [
    {
     "name": "stdout",
     "output_type": "stream",
     "text": [
      "zp_mean =  101.4\n",
      "ks_mean =  709.9\n",
      "common_zp_ks =  [ 14035  25830 166060 183800  18360  51730  35262 135300  89520  91520]\n",
      "common_mean_zp_ks =  81141.7\n",
      "cov =  9157.839999999997\n",
      "np_cov =  [[ 3882.93333333 10175.37777778]\n",
      " [10175.37777778 33854.32222222]]\n"
     ]
    }
   ],
   "source": [
    "zp_mean = zp.mean()\n",
    "print('zp_mean = ',zp_mean)\n",
    "\n",
    "ks_mean = ks.mean()\n",
    "print('ks_mean = ',ks_mean)\n",
    "\n",
    "common_zp_ks = zp*ks \n",
    "print('common_zp_ks = ',common_zp_ks)\n",
    "\n",
    "common_mean_zp_ks = common_zp_ks.mean()\n",
    "print('common_mean_zp_ks = ',common_mean_zp_ks)\n",
    "\n",
    "cov = common_mean_zp_ks - zp_mean * ks_mean  \n",
    "print('cov = ',cov)\n",
    "\n",
    "np_cov = np.cov(zp, ks)\n",
    "print('np_cov = ',np_cov)\n",
    "\n",
    "print('ковариации идентичны')\n"
   ]
  },
  {
   "cell_type": "code",
   "execution_count": 24,
   "metadata": {},
   "outputs": [
    {
     "name": "stdout",
     "output_type": "stream",
     "text": [
      "s_zp =  59.115480206118605\n",
      "s_ks =  174.55340157098058\n",
      "r =  0.8874900920739158\n",
      "corrcoef =  [[1.         0.88749009]\n",
      " [0.88749009 1.        ]]\n",
      "коэффициенты корреляции идентичны\n"
     ]
    }
   ],
   "source": [
    "s_zp = np.std(zp, ddof= 0)\n",
    "print('s_zp = ', s_zp)\n",
    "\n",
    "s_ks = np.std(ks, ddof= 0)\n",
    "print('s_ks = ', s_ks)\n",
    "\n",
    "r = cov / (s_zp * s_ks)\n",
    "print('r = ', r)\n",
    "\n",
    "corrcoef = np.corrcoef(zp, ks)\n",
    "print('corrcoef = ', corrcoef)\n",
    "\n",
    "print('коэффициенты корреляции идентичны')"
   ]
  },
  {
   "cell_type": "markdown",
   "metadata": {},
   "source": [
    "2.Измерены значения IQ выборки студентов,\n",
    "обучающихся в местных технических вузах:\n",
    "131, 125, 115, 122, 131, 115, 107, 99, 125, 111.\n",
    "Известно, что в генеральной совокупности IQ распределен нормально.\n",
    "Найдите доверительный интервал для математического ожидания с надежностью 0.95."
   ]
  },
  {
   "cell_type": "code",
   "execution_count": 27,
   "metadata": {},
   "outputs": [
    {
     "name": "stdout",
     "output_type": "stream",
     "text": [
      "iq_len =  10\n",
      "iq_mean =  118.1\n"
     ]
    }
   ],
   "source": [
    "iq = np.array([131, 125, 115, 122, 131, 115, 107, 99, 125, 111])\n",
    "\n",
    "iq_len = len(iq)\n",
    "print('iq_len = ', iq_len)\n",
    "\n",
    "iq_mean = iq.mean()\n",
    "print('iq_mean = ', iq_mean)"
   ]
  },
  {
   "cell_type": "code",
   "execution_count": 26,
   "metadata": {},
   "outputs": [
    {
     "name": "stdout",
     "output_type": "stream",
     "text": [
      "disperssion =  111.21111111111111\n"
     ]
    }
   ],
   "source": [
    "disp = np.var(iq, ddof = 1)\n",
    "print('disperssion = ',disp)"
   ]
  },
  {
   "cell_type": "code",
   "execution_count": 30,
   "metadata": {},
   "outputs": [
    {
     "name": "stdout",
     "output_type": "stream",
     "text": [
      "( 110.55660776308164 , 125.64339223691834 )\n"
     ]
    }
   ],
   "source": [
    "t= 2.262\n",
    "x = iq_mean - t*np.sqrt(disp / 10) \n",
    "y = iq_mean + t*np.sqrt(disp / 10)\n",
    "\n",
    "print('доверительный интервал (',x, ',',y,')')"
   ]
  },
  {
   "cell_type": "markdown",
   "metadata": {},
   "source": [
    "3.Известно, что рост футболистов в сборной распределен нормально\n",
    "с дисперсией генеральной совокупности, равной 25 кв.см. Объем выборки равен 27,\n",
    "среднее выборочное составляет 174.2. Найдите доверительный интервал для математического\n",
    "ожидания с надежностью 0.95."
   ]
  },
  {
   "cell_type": "code",
   "execution_count": 33,
   "metadata": {},
   "outputs": [
    {
     "name": "stdout",
     "output_type": "stream",
     "text": [
      "s =  5.0\n",
      "z для нашего альфа = 0,005 (5%) = 1.96\n",
      "доверительный интервал ( 172.31398912064722 , 176.08601087935276 )\n"
     ]
    }
   ],
   "source": [
    "s = np.sqrt(25)\n",
    "print('s = ', s)\n",
    "\n",
    "print('z для нашего альфа = 0,005 (5%) = 1.96')\n",
    "z = 1.96\n",
    "mean = 174.2\n",
    "value = 27\n",
    "conf_x = mean - z * (s / np.sqrt(value))\n",
    "conf_y = mean + z * (s / np.sqrt(value))\n",
    "print('доверительный интервал (',conf_x, ',',conf_y,')')"
   ]
  }
 ],
 "metadata": {
  "kernelspec": {
   "display_name": "Python 3.10.8 64-bit (microsoft store)",
   "language": "python",
   "name": "python3"
  },
  "language_info": {
   "codemirror_mode": {
    "name": "ipython",
    "version": 3
   },
   "file_extension": ".py",
   "mimetype": "text/x-python",
   "name": "python",
   "nbconvert_exporter": "python",
   "pygments_lexer": "ipython3",
   "version": "3.10.8"
  },
  "orig_nbformat": 4,
  "vscode": {
   "interpreter": {
    "hash": "22e92cd554a40abb03f90726a08cafda4fa8f216c30f49cef0765c3c74cd3b4d"
   }
  }
 },
 "nbformat": 4,
 "nbformat_minor": 2
}
